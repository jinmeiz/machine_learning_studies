{
 "cells": [
  {
   "cell_type": "markdown",
   "metadata": {},
   "source": [
    "# Dijkstra's Shortest-Path Algorithm\n",
    "\n",
    "It works in any directed graph with non-negative edges. It computes the lengths of shortest paths from a starting vertex to all other vertices."
   ]
  },
  {
   "cell_type": "markdown",
   "metadata": {},
   "source": [
    "# Binary tree\n",
    "\n",
    "- preorder: node, left, right (traversal with stack: push right node first)\n",
    "\n",
    "- postorder: left, right, node (traversal with 2 stacks)\n",
    "\n",
    "- inorder: left, node, right"
   ]
  },
  {
   "cell_type": "markdown",
   "metadata": {},
   "source": [
    "# Heap\n",
    "\n",
    "Heap is a data structure that keeps track of an evolving set of objects with keys and can quickly identify the object with the smallest key.\n",
    "\n",
    "If an application requires fast minimun (or maximum) computations on a dynamically changing set of objects, heap is usually the data structure of choice.\n",
    "\n",
    "Operations and running time\n",
    "\n",
    "- insert:        O(log n)      \n",
    "- extract min:   O(log n)\n",
    "- find min:      O(1)\n",
    "- heapify:       O(n)\n",
    "- delete:        O(log n)\n",
    "\n",
    "\n",
    "A heap can be visualized as a tree or an array:\n",
    "- as binary tree in which every level is as full as possible, and for each node, its value is <= values of its children.\n",
    "- as array where the 1st element is the root, and next two elements correspond to the next level of the tree.\n",
    "\n",
    "INSERT operation:\n",
    "1. stick new object at the end of heap and increment heap size\n",
    "2. repeatedly swap new object with its parent until heap property is restored."
   ]
  },
  {
   "cell_type": "markdown",
   "metadata": {},
   "source": [
    "## python library\n",
    "\n",
    "https://docs.python.org/3.0/library/heapq.html\n",
    "\n",
    "- heapq.heappush(heap, item)\n",
    "\n",
    "- heapq.heappop(heap)\n",
    "\n",
    "- heapq.heapify(x)\n",
    "\n",
    "- heapq.nlargest(n, iterable[, key])\n",
    "\n",
    "heapq.nsmallest(n, iterable[, key])"
   ]
  },
  {
   "cell_type": "markdown",
   "metadata": {},
   "source": [
    "## example\n",
    "\n",
    "https://leetcode.com/problems/k-closest-points-to-origin"
   ]
  },
  {
   "cell_type": "code",
   "execution_count": null,
   "metadata": {},
   "outputs": [],
   "source": [
    "def kClosest(self, points: List[List[int]], K: int) -> List[List[int]]:\n",
    "\n",
    "    k_smalllest = heapq.nsmallest(K, points, lambda x: (x[0]**2 + x[1]**2) )\n",
    "\n",
    "    return k_smalllest"
   ]
  }
 ],
 "metadata": {
  "kernelspec": {
   "display_name": "Python 3",
   "language": "python",
   "name": "python3"
  },
  "language_info": {
   "codemirror_mode": {
    "name": "ipython",
    "version": 3
   },
   "file_extension": ".py",
   "mimetype": "text/x-python",
   "name": "python",
   "nbconvert_exporter": "python",
   "pygments_lexer": "ipython3",
   "version": "3.6.5"
  },
  "toc": {
   "base_numbering": 1,
   "nav_menu": {},
   "number_sections": true,
   "sideBar": true,
   "skip_h1_title": false,
   "title_cell": "Table of Contents",
   "title_sidebar": "Contents",
   "toc_cell": false,
   "toc_position": {},
   "toc_section_display": true,
   "toc_window_display": true
  }
 },
 "nbformat": 4,
 "nbformat_minor": 2
}
