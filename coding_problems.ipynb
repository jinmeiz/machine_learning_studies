{
 "cells": [
  {
   "cell_type": "markdown",
   "metadata": {},
   "source": [
    "# Problem 1:\n",
    "\n",
    "LeetCode 966: https://leetcode.com/problems/vowel-spellchecker/\n",
    "\n",
    "This is a simplified version for spell correction, since it only checks two common types of spell errors. Spell correction is widely used in many cases, like search engine and word processing."
   ]
  },
  {
   "cell_type": "markdown",
   "metadata": {},
   "source": [
    "## Description\n",
    "\n",
    "Given a wordlist, we want to implement a spellchecker that converts a query word into a correct word.\n",
    "\n",
    "For a given query word, the spell checker handles two categories of spelling mistakes:\n",
    "\n",
    "- Capitalization: If the query matches a word in the wordlist (case-insensitive), then the query word is returned with the same case as the case in the wordlist.\n",
    "\n",
    "- Vowel Errors: If after replacing the vowels ('a', 'e', 'i', 'o', 'u') of the query word with any vowel individually, it matches a word in the wordlist (case-insensitive), then the query word is returned with the same case as the match in the wordlist."
   ]
  },
  {
   "cell_type": "markdown",
   "metadata": {},
   "source": [
    "## Solution"
   ]
  },
  {
   "cell_type": "code",
   "execution_count": 9,
   "metadata": {},
   "outputs": [],
   "source": [
    "import collections\n",
    "import math\n",
    "\n",
    "def find_word(word_dict: collections.defaultdict(list), word: str):\n",
    "    \"\"\"\n",
    "    find if a word match any word in word dictionary\n",
    "\n",
    "    Return:\n",
    "        the exact match if exists\n",
    "        first match otherwise\n",
    "    \"\"\"       \n",
    "    final_word = \"\"\n",
    "\n",
    "    word_lowcase = word.lower()\n",
    "    if word_lowcase in word_dict:\n",
    "        # grab all word candiates\n",
    "        word_candidate_tuples = word_dict[word_lowcase]\n",
    "        word_candidates = [word_tuple[0] for word_tuple in word_candidate_tuples]\n",
    "\n",
    "        if word in word_candidates:\n",
    "            # find the exact match\n",
    "            final_word = word\n",
    "        else:\n",
    "            # find the first match\n",
    "            final_word = word_candidates[0]\n",
    "\n",
    "    return final_word\n",
    "    \n",
    "def generate_new_words(word: str) -> set:\n",
    "    \"\"\"\n",
    "    generate all new words by replacing vowels in a word\n",
    "    \"\"\"\n",
    "\n",
    "    vowel_list = ['a', 'e', 'i', 'o', 'u']\n",
    "\n",
    "    word_lowcase = word.lower()\n",
    "\n",
    "    # creat a set holding new word set \n",
    "    new_word_set = set()\n",
    "    new_word_set.add(word_lowcase)\n",
    "\n",
    "    for i in range(len(word_lowcase)):\n",
    "        curr_char = word_lowcase[i]\n",
    "\n",
    "        if curr_char not in vowel_list:\n",
    "            continue\n",
    "\n",
    "        for vowel in vowel_list:\n",
    "\n",
    "            # generate new words by replacing the current letter with \n",
    "            # every vowel for every word in the new word set\n",
    "            curr_word_set = new_word_set.copy()                \n",
    "            for w in curr_word_set:\n",
    "                new_word = w[:i] + vowel+ w[i+1:]\n",
    "                new_word_set.add(new_word)\n",
    "\n",
    "    return new_word_set\n",
    "\n",
    "def find_first_match(word_set: set, word_dict):\n",
    "    \"\"\"\n",
    "    given a set of words, find the matching word with smallest index\n",
    "    \"\"\"\n",
    "\n",
    "    final_word = ''\n",
    "\n",
    "    matching_word_lst = []       \n",
    "    for w in word_set:\n",
    "        if w in word_dict:\n",
    "            matching_word_lst += word_dict[w]\n",
    "    # print('matching_word_lst:', matching_word_lst) \n",
    "\n",
    "    idx_min = math.inf\n",
    "    for word_tuple in matching_word_lst:\n",
    "        w = word_tuple[0]\n",
    "        idx = word_tuple[1]\n",
    "\n",
    "        if idx < idx_min:\n",
    "            idx_min = idx\n",
    "            final_word = w\n",
    "\n",
    "    return final_word\n",
    "\n",
    "\n",
    "def spellchecker(wordlist: list, queries: list) -> list:  \n",
    "    \"\"\"\n",
    "    Given a wordlist, converts a query word into a correct word.\n",
    "    \"\"\"\n",
    "\n",
    "    # create a dictionary:\n",
    "    # key: lower case of words in wordlist\n",
    "    # value: list of tuples: (original words whose lower case matches key, index)\n",
    "    word_dict = collections.defaultdict(list)\n",
    "\n",
    "    for i in range(len(wordlist)):\n",
    "        word = wordlist[i]\n",
    "        word_dict[word.lower()].append((word, i))      \n",
    "    # print(word_dict)\n",
    "\n",
    "    res = []\n",
    "    for word in queries:     \n",
    "        # print(word, \"***\")\n",
    "        final_word = \"\"\n",
    "        \n",
    "        # check if word without subtition appears in worddict:\n",
    "        final_word = find_word(word_dict, word)\n",
    "\n",
    "        if final_word:\n",
    "            res.append(final_word)\n",
    "            continue\n",
    "\n",
    "        # check if substitue a vowl would find a match\n",
    "        new_words = generate_new_words(word)\n",
    "        final_word = find_first_match(new_words, word_dict)\n",
    "\n",
    "        res.append(final_word)\n",
    "\n",
    "    return res\n"
   ]
  },
  {
   "cell_type": "code",
   "execution_count": 10,
   "metadata": {},
   "outputs": [
    {
     "data": {
      "text/plain": [
       "['kite', 'KiTe', 'KiTe', 'Hare', 'hare', '', '', 'KiTe', '', 'KiTe']"
      ]
     },
     "execution_count": 10,
     "metadata": {},
     "output_type": "execute_result"
    }
   ],
   "source": [
    "wordlist = [\"KiTe\",\"kite\",\"hare\",\"Hare\"]\n",
    "queries = [\"kite\",\"Kite\",\"KiTe\",\"Hare\",\"HARE\",\"Hear\",\"hear\",\"keti\",\"keet\",\"keto\"]\n",
    "expect_output = [\"kite\",\"KiTe\",\"KiTe\",\"Hare\",\"hare\",\"\",\"\",\"KiTe\",\"\",\"KiTe\"]\n",
    "\n",
    "spellchecker(wordlist, queries)"
   ]
  },
  {
   "cell_type": "code",
   "execution_count": 11,
   "metadata": {},
   "outputs": [
    {
     "data": {
      "text/plain": [
       "['ae']"
      ]
     },
     "execution_count": 11,
     "metadata": {},
     "output_type": "execute_result"
    }
   ],
   "source": [
    "wordlist = [\"ae\",\"aa\"]\n",
    "queries = [\"UU\"]\n",
    "expect_output = [\"ae\"]\n",
    "\n",
    "spellchecker(wordlist, queries)"
   ]
  },
  {
   "cell_type": "code",
   "execution_count": null,
   "metadata": {},
   "outputs": [],
   "source": []
  }
 ],
 "metadata": {
  "kernelspec": {
   "display_name": "Python 3",
   "language": "python",
   "name": "python3"
  },
  "language_info": {
   "codemirror_mode": {
    "name": "ipython",
    "version": 3
   },
   "file_extension": ".py",
   "mimetype": "text/x-python",
   "name": "python",
   "nbconvert_exporter": "python",
   "pygments_lexer": "ipython3",
   "version": "3.6.5"
  }
 },
 "nbformat": 4,
 "nbformat_minor": 2
}
