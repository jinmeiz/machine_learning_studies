{
 "cells": [
  {
   "cell_type": "markdown",
   "metadata": {},
   "source": [
    "# Problem 1:\n",
    "\n",
    "LeetCode 966: https://leetcode.com/problems/vowel-spellchecker/\n",
    "\n",
    "This is a simplified version for spell correction, since it only checks two common types of spell errors. Spell correction is widely used in many cases, like search engine and word processing."
   ]
  },
  {
   "cell_type": "markdown",
   "metadata": {},
   "source": [
    "## Description\n",
    "\n",
    "Given a wordlist, we want to implement a spellchecker that converts a query word into a correct word.\n",
    "\n",
    "For a given query word, the spell checker handles two categories of spelling mistakes:\n",
    "\n",
    "- Capitalization: If the query matches a word in the wordlist (case-insensitive), then the query word is returned with the same case as the case in the wordlist.\n",
    "\n",
    "- Vowel Errors: If after replacing the vowels ('a', 'e', 'i', 'o', 'u') of the query word with any vowel individually, it matches a word in the wordlist (case-insensitive), then the query word is returned with the same case as the match in the wordlist."
   ]
  },
  {
   "cell_type": "markdown",
   "metadata": {},
   "source": [
    "## My solution"
   ]
  },
  {
   "cell_type": "code",
   "execution_count": 9,
   "metadata": {
    "code_folding": []
   },
   "outputs": [],
   "source": [
    "import collections\n",
    "import math\n",
    "\n",
    "def find_word(word_dict: collections.defaultdict(list), word: str):\n",
    "    \"\"\"\n",
    "    find if a word match any word in word dictionary\n",
    "\n",
    "    Return:\n",
    "        the exact match if exists\n",
    "        first match otherwise\n",
    "    \"\"\"       \n",
    "    final_word = \"\"\n",
    "\n",
    "    word_lowcase = word.lower()\n",
    "    if word_lowcase in word_dict:\n",
    "        # grab all word candiates\n",
    "        word_candidate_tuples = word_dict[word_lowcase]\n",
    "        word_candidates = [word_tuple[0] for word_tuple in word_candidate_tuples]\n",
    "\n",
    "        if word in word_candidates:\n",
    "            # find the exact match\n",
    "            final_word = word\n",
    "        else:\n",
    "            # find the first match\n",
    "            final_word = word_candidates[0]\n",
    "\n",
    "    return final_word\n",
    "    \n",
    "def generate_new_words(word: str) -> set:\n",
    "    \"\"\"\n",
    "    generate all new words by replacing vowels in a word\n",
    "    \"\"\"\n",
    "\n",
    "    vowel_list = ['a', 'e', 'i', 'o', 'u']\n",
    "\n",
    "    word_lowcase = word.lower()\n",
    "\n",
    "    # creat a set holding new word set \n",
    "    new_word_set = set()\n",
    "    new_word_set.add(word_lowcase)\n",
    "\n",
    "    for i in range(len(word_lowcase)):\n",
    "        curr_char = word_lowcase[i]\n",
    "\n",
    "        if curr_char not in vowel_list:\n",
    "            continue\n",
    "\n",
    "        for vowel in vowel_list:\n",
    "\n",
    "            # generate new words by replacing the current letter with \n",
    "            # every vowel for every word in the new word set\n",
    "            curr_word_set = new_word_set.copy()                \n",
    "            for w in curr_word_set:\n",
    "                new_word = w[:i] + vowel+ w[i+1:]\n",
    "                new_word_set.add(new_word)\n",
    "\n",
    "    return new_word_set\n",
    "\n",
    "def find_first_match(word_set: set, word_dict):\n",
    "    \"\"\"\n",
    "    given a set of words, find the matching word with smallest index\n",
    "    \"\"\"\n",
    "\n",
    "    final_word = ''\n",
    "\n",
    "    matching_word_lst = []       \n",
    "    for w in word_set:\n",
    "        if w in word_dict:\n",
    "            matching_word_lst += word_dict[w]\n",
    "    # print('matching_word_lst:', matching_word_lst) \n",
    "\n",
    "    idx_min = math.inf\n",
    "    for word_tuple in matching_word_lst:\n",
    "        w = word_tuple[0]\n",
    "        idx = word_tuple[1]\n",
    "\n",
    "        if idx < idx_min:\n",
    "            idx_min = idx\n",
    "            final_word = w\n",
    "\n",
    "    return final_word\n",
    "\n",
    "\n",
    "def spellchecker(wordlist: list, queries: list) -> list:  \n",
    "    \"\"\"\n",
    "    Given a wordlist, converts a query word into a correct word.\n",
    "    \"\"\"\n",
    "\n",
    "    # create a dictionary:\n",
    "    # key: lower case of words in wordlist\n",
    "    # value: list of tuples: (original words whose lower case matches key, index)\n",
    "    word_dict = collections.defaultdict(list)\n",
    "\n",
    "    for i in range(len(wordlist)):\n",
    "        word = wordlist[i]\n",
    "        word_dict[word.lower()].append((word, i))      \n",
    "    # print(word_dict)\n",
    "\n",
    "    res = []\n",
    "    for word in queries:     \n",
    "        # print(word, \"***\")\n",
    "        final_word = \"\"\n",
    "        \n",
    "        # check if word without subtition appears in worddict:\n",
    "        final_word = find_word(word_dict, word)\n",
    "\n",
    "        if final_word:\n",
    "            res.append(final_word)\n",
    "            continue\n",
    "\n",
    "        # check if substitue a vowl would find a match\n",
    "        new_words = generate_new_words(word)\n",
    "        final_word = find_first_match(new_words, word_dict)\n",
    "\n",
    "        res.append(final_word)\n",
    "\n",
    "    return res\n"
   ]
  },
  {
   "cell_type": "code",
   "execution_count": 10,
   "metadata": {},
   "outputs": [
    {
     "data": {
      "text/plain": [
       "['kite', 'KiTe', 'KiTe', 'Hare', 'hare', '', '', 'KiTe', '', 'KiTe']"
      ]
     },
     "execution_count": 10,
     "metadata": {},
     "output_type": "execute_result"
    }
   ],
   "source": [
    "wordlist = [\"KiTe\",\"kite\",\"hare\",\"Hare\"]\n",
    "queries = [\"kite\",\"Kite\",\"KiTe\",\"Hare\",\"HARE\",\"Hear\",\"hear\",\"keti\",\"keet\",\"keto\"]\n",
    "expect_output = [\"kite\",\"KiTe\",\"KiTe\",\"Hare\",\"hare\",\"\",\"\",\"KiTe\",\"\",\"KiTe\"]\n",
    "\n",
    "spellchecker(wordlist, queries)"
   ]
  },
  {
   "cell_type": "code",
   "execution_count": 11,
   "metadata": {},
   "outputs": [
    {
     "data": {
      "text/plain": [
       "['ae']"
      ]
     },
     "execution_count": 11,
     "metadata": {},
     "output_type": "execute_result"
    }
   ],
   "source": [
    "wordlist = [\"ae\",\"aa\"]\n",
    "queries = [\"UU\"]\n",
    "expect_output = [\"ae\"]\n",
    "\n",
    "spellchecker(wordlist, queries)"
   ]
  },
  {
   "cell_type": "markdown",
   "metadata": {},
   "source": [
    "## Leetcode solution\n",
    "\n",
    "We analyze the 3 cases that the algorithm needs to consider: when the query is an exact match, when the query is a match up to capitalization, and when the query is a match up to vowel errors.\n",
    "\n",
    "In all 3 cases, we can use a hash table to query the answer.\n",
    "\n",
    "- For the first case (exact match), we hold a set of words to efficiently test whether our query is in the set.\n",
    "- For the second case (capitalization), we hold a hash table that converts the word from its lowercase version to the original word (with correct capitalization).\n",
    "- For the third case (vowel replacement), we hold a hash table that converts the word from its lowercase version with the vowels masked out, to the original word."
   ]
  },
  {
   "cell_type": "code",
   "execution_count": null,
   "metadata": {},
   "outputs": [],
   "source": [
    "def spellchecker(self, wordlist, queries):\n",
    "    def devowel(word):\n",
    "        return \"\".join('*' if c in 'aeiou' else c\n",
    "                       for c in word)\n",
    "\n",
    "    words_perfect = set(wordlist)\n",
    "    words_cap = {}\n",
    "    words_vow = {}\n",
    "\n",
    "    # create three dictionaries\n",
    "    for word in wordlist:\n",
    "        wordlow = word.lower()\n",
    "        \n",
    "        # only hash the first matching instance in the wordlist\n",
    "        # so we will return the first word that satisfies the condition \n",
    "        words_cap.setdefault(wordlow, word) \n",
    "        words_vow.setdefault(devowel(wordlow), word)  \n",
    "\n",
    "    def solve(query):\n",
    "        if query in words_perfect:\n",
    "            return query\n",
    "\n",
    "        queryL = query.lower()\n",
    "        if queryL in words_cap:\n",
    "            return words_cap[queryL]\n",
    "\n",
    "        queryLV = devowel(queryL)\n",
    "        if queryLV in words_vow:\n",
    "            return words_vow[queryLV]\n",
    "        return \"\"\n",
    "\n",
    "    return map(solve, queries)\n"
   ]
  },
  {
   "cell_type": "markdown",
   "metadata": {},
   "source": [
    "- map() function returns a map object(which is an iterator) of the results after applying the given function to each item of a given iterable (list, tuple etc.)\n",
    "    \n",
    "- In Dictionary, setdefault() method returns the value of a key (if the key is in dictionary). If not, it inserts key with a value to the dictionary."
   ]
  },
  {
   "cell_type": "markdown",
   "metadata": {},
   "source": [
    "# Problem 2\n",
    "\n",
    "LeetCode 72: Edit Distance (https://leetcode.com/problems/edit-distance/)\n",
    "\n",
    "use cases:\n",
    "- find the correction word with minimum changes to the misspelled word\n",
    "- DNA sequence matching"
   ]
  },
  {
   "cell_type": "markdown",
   "metadata": {},
   "source": [
    "## Description\n",
    "\n",
    "Given two words word1 and word2, find the minimum number of operations required to convert word1 to word2.\n",
    "\n",
    "You have the following 3 operations permitted on a word:\n",
    "\n",
    "- Insert a character\n",
    "- Delete a character\n",
    "- Replace a character"
   ]
  },
  {
   "cell_type": "markdown",
   "metadata": {},
   "source": [
    "## solutions"
   ]
  },
  {
   "cell_type": "raw",
   "metadata": {},
   "source": [
    "string 1: ...x (use 'a' to denote prefix here, -> ax)\n",
    "string 2: ...y (use 'b' to denote prefix here, -> by)\n",
    "\n",
    "\n",
    "edist(ax, by) = min(edist(a,b) + delta(x, y)     # substitution (x->y)\n",
    "                    edist(ax,b) + 1              # insertion (ax -> b, insert y)\n",
    "                    edist(a,by) + 1              # deletion  (a -> by, delete x)\n",
    "                    )\n",
    "                    "
   ]
  },
  {
   "cell_type": "markdown",
   "metadata": {},
   "source": [
    "### naive solution: recursion"
   ]
  },
  {
   "cell_type": "code",
   "execution_count": 67,
   "metadata": {},
   "outputs": [],
   "source": [
    "def edist(s1: str, s2: str) -> int:\n",
    "    \n",
    "    # edit distance between an empty string and other string\n",
    "    if len(s1) == 0:\n",
    "        return len(s2)   \n",
    "    if len(s2) == 0:\n",
    "        return len(s1)\n",
    "    \n",
    "    delta = 0 if s1[-1] == s2[-1] else 1\n",
    "    \n",
    "    return min(edist(s1[:-1], s2[:-1]) + delta,\n",
    "               edist(s1, s2[:-1]) + 1,\n",
    "               edist(s1[:-1], s2) + 1\n",
    "               )"
   ]
  },
  {
   "cell_type": "code",
   "execution_count": 73,
   "metadata": {},
   "outputs": [],
   "source": [
    "s1 = 'birthday cake'\n",
    "s2 = 'birthday'"
   ]
  },
  {
   "cell_type": "code",
   "execution_count": 76,
   "metadata": {},
   "outputs": [
    {
     "name": "stdout",
     "output_type": "stream",
     "text": [
      "5\n",
      "CPU times: user 6.55 s, sys: 18.2 ms, total: 6.57 s\n",
      "Wall time: 6.59 s\n"
     ]
    }
   ],
   "source": [
    "%time print(edist(s1, s2))"
   ]
  },
  {
   "cell_type": "markdown",
   "metadata": {},
   "source": [
    "### dynamic programming"
   ]
  },
  {
   "cell_type": "markdown",
   "metadata": {},
   "source": [
    "avoid redunrant computing, create a matrix where string 1 labels the rows and string 2 labels the columns, and each element corresponds to the edit distance of a particular prefix of string 1 and a particular prefix of string 2\n",
    "\n",
    "```\n",
    "\n",
    "      '' s2[0] s2[1] ... s2[-1]\n",
    "''    \n",
    "s1[0]\n",
    "s1[1]\n",
    ".\n",
    ".\n",
    ".\n",
    "s1[-1]\n",
    "```"
   ]
  },
  {
   "cell_type": "code",
   "execution_count": 78,
   "metadata": {},
   "outputs": [],
   "source": [
    "def edist(s1: str, s2: str) -> int:\n",
    "    \n",
    "    nrow = len(s1) + 1\n",
    "    ncol = len(s2) + 1\n",
    "    \n",
    "    # create empty matrix\n",
    "    matrix = [[0]*ncol for i in range(nrow)]\n",
    "    \n",
    "    # fill in the first row and column\n",
    "    for i in range(nrow):\n",
    "        matrix[i][0] = i\n",
    "    for i in range(ncol):\n",
    "        matrix[0][i] = i \n",
    "    \n",
    "    for i in range(1, nrow):\n",
    "        for j in range(1, ncol):\n",
    "            \n",
    "            delta = 0 if s1[i-1] == s2[j-1] else 1\n",
    "            matrix[i][j] = min(matrix[i-1][j-1] + delta,\n",
    "                               matrix[i][j-1] + 1,\n",
    "                               matrix[i-1][j] + 1\n",
    "                               )\n",
    "    return matrix[-1][-1]"
   ]
  },
  {
   "cell_type": "code",
   "execution_count": 79,
   "metadata": {},
   "outputs": [
    {
     "name": "stdout",
     "output_type": "stream",
     "text": [
      "5\n",
      "CPU times: user 413 µs, sys: 110 µs, total: 523 µs\n",
      "Wall time: 450 µs\n"
     ]
    }
   ],
   "source": [
    "s1 = 'birthday cake'\n",
    "s2 = 'birthday'\n",
    "\n",
    "%time print(edist(s1, s2))"
   ]
  },
  {
   "cell_type": "markdown",
   "metadata": {},
   "source": [
    "# Problem 3\n",
    "\n",
    "LeetCode 187: Repeated DNA Sequences (https://leetcode.com/problems/repeated-dna-sequences/)\n",
    "\n",
    "All DNA is composed of a series of nucleotides abbreviated as A, C, G, and T, for example: \"ACGAATTCCG\". When studying DNA, it is sometimes useful to identify repeated sequences within the DNA.\n",
    "\n",
    "Write a function to find all the 10-letter-long sequences (substrings) that occur more than once in a DNA molecule."
   ]
  },
  {
   "cell_type": "code",
   "execution_count": 3,
   "metadata": {},
   "outputs": [],
   "source": [
    "def findRepeatedDnaSequences(s: str) -> list:\n",
    "\n",
    "    dictionary = {}\n",
    "\n",
    "    output = []\n",
    "    for i in range(len(s)-10+1):\n",
    "        current_sequence = s[i:i+10]\n",
    "\n",
    "        if current_sequence in dictionary:\n",
    "            dictionary[current_sequence] += 1\n",
    "        else:\n",
    "            dictionary[current_sequence] = 1\n",
    "\n",
    "    for key in dictionary:\n",
    "        if dictionary[key] > 1:\n",
    "            output.append(key)\n",
    "    return output"
   ]
  },
  {
   "cell_type": "code",
   "execution_count": 4,
   "metadata": {},
   "outputs": [
    {
     "data": {
      "text/plain": [
       "['AAAAACCCCC', 'CCCCCAAAAA']"
      ]
     },
     "execution_count": 4,
     "metadata": {},
     "output_type": "execute_result"
    }
   ],
   "source": [
    "s = \"AAAAACCCCCAAAAACCCCCCAAAAAGGGTTT\"\n",
    "findRepeatedDnaSequences(s)"
   ]
  },
  {
   "cell_type": "code",
   "execution_count": 5,
   "metadata": {},
   "outputs": [
    {
     "data": {
      "text/plain": [
       "['AAAAAAAAAA']"
      ]
     },
     "execution_count": 5,
     "metadata": {},
     "output_type": "execute_result"
    }
   ],
   "source": [
    "s = \"AAAAAAAAAAAA\"\n",
    "findRepeatedDnaSequences(s)"
   ]
  },
  {
   "cell_type": "markdown",
   "metadata": {},
   "source": [
    "# Problem 4: \n",
    "\n",
    "LeetCode 44: Wildcard Matching (https://leetcode.com/problems/wildcard-matching/)\n",
    "\n",
    "This is one of the string matching problems."
   ]
  },
  {
   "cell_type": "markdown",
   "metadata": {},
   "source": [
    "dynamic programming:\n",
    "\n",
    "create a matrix __M__ where the letters of the string labels the rows and the letters of the pattern labels the columns, and each element corresponds to the boolean value of whether a particular prefix of pattern matches a particular prefix of the string\n",
    "\n",
    "```\n",
    "      '' p[0] p[1] ... p[-1]\n",
    "''    \n",
    "s[0]\n",
    "s[1]\n",
    ".\n",
    ".\n",
    ".\n",
    "s[-1]\n",
    "\n",
    "M[i][j] = M[i-1][j-1]                     if p[j] == s[i] or p[j] == ?\n",
    "          M[i][j-1] (*->'') or M[i-1][j]  if p[j] == *\n",
    "          False                           if p[j] != s[i]\n",
    "\n",
    "```\n",
    "\n",
    "\n"
   ]
  },
  {
   "cell_type": "code",
   "execution_count": 2,
   "metadata": {},
   "outputs": [],
   "source": [
    "def isMatch(s: str, p: str) -> bool:\n",
    "\n",
    "    if len(p) == 0:\n",
    "        if len(s) == 0:\n",
    "            return True\n",
    "        return False\n",
    "\n",
    "    # preprocess p to collapse *\n",
    "    cp = p[0]\n",
    "    for i in range(1, len(p)):\n",
    "        if p[i] == '*' and cp[-1] == '*':\n",
    "            continue\n",
    "        cp += p[i]\n",
    "\n",
    "\n",
    "    ncol = len(cp) + 1\n",
    "    nrow = len(s) + 1\n",
    "    mat = [[False] * ncol for i in range(nrow)]\n",
    "\n",
    "    # fill first row and column\n",
    "    mat[0][0] = True\n",
    "    if cp[0] == '*':\n",
    "        mat[0][1] = True\n",
    "\n",
    "    for i in range(1, nrow):\n",
    "        for j in range(1, ncol):\n",
    "\n",
    "            if cp[j-1] == s[i-1] or cp[j-1] == '?':\n",
    "                mat[i][j] = mat[i-1][j-1]\n",
    "\n",
    "            elif cp[j-1] == '*':\n",
    "                mat[i][j] = mat[i][j-1] or mat[i-1][j]\n",
    "\n",
    "\n",
    "    return mat[-1][-1]"
   ]
  },
  {
   "cell_type": "code",
   "execution_count": 3,
   "metadata": {},
   "outputs": [
    {
     "data": {
      "text/plain": [
       "True"
      ]
     },
     "execution_count": 3,
     "metadata": {},
     "output_type": "execute_result"
    }
   ],
   "source": [
    "s = \"ho\"\n",
    "p = \"**ho\"\n",
    "\n",
    "isMatch(s, p)"
   ]
  },
  {
   "cell_type": "code",
   "execution_count": 4,
   "metadata": {},
   "outputs": [
    {
     "data": {
      "text/plain": [
       "False"
      ]
     },
     "execution_count": 4,
     "metadata": {},
     "output_type": "execute_result"
    }
   ],
   "source": [
    "s = \"aa\"\n",
    "p = \"a\"\n",
    "\n",
    "isMatch(s, p)"
   ]
  },
  {
   "cell_type": "code",
   "execution_count": 5,
   "metadata": {},
   "outputs": [
    {
     "data": {
      "text/plain": [
       "True"
      ]
     },
     "execution_count": 5,
     "metadata": {},
     "output_type": "execute_result"
    }
   ],
   "source": [
    "s = \"\"\n",
    "p = \"\"\n",
    "\n",
    "isMatch(s, p)"
   ]
  },
  {
   "cell_type": "markdown",
   "metadata": {},
   "source": [
    "# Problem 5 :\n",
    "\n",
    "LeetCode 686: Repeated String Match (https://leetcode.com/problems/repeated-string-match/)\n",
    "\n",
    "Given two strings A and B, find the minimum number of times A has to be repeated such that B is a substring of it. If no such solution, return -1."
   ]
  },
  {
   "cell_type": "code",
   "execution_count": 1,
   "metadata": {},
   "outputs": [],
   "source": [
    "def repeatedStringMatch(A: str, B: str) -> int:\n",
    "\n",
    "    num_repeats = 1\n",
    "\n",
    "    A_repeats = A\n",
    "\n",
    "    while len(A_repeats) <= (len(B)+len(A)):    \n",
    "\n",
    "        if B in A_repeats:                \n",
    "            return num_repeats\n",
    "\n",
    "        A_repeats += A\n",
    "        num_repeats += 1\n",
    "\n",
    "    if B in A_repeats:                \n",
    "        return num_repeats\n",
    "\n",
    "    return -1"
   ]
  },
  {
   "cell_type": "code",
   "execution_count": 2,
   "metadata": {},
   "outputs": [
    {
     "data": {
      "text/plain": [
       "4"
      ]
     },
     "execution_count": 2,
     "metadata": {},
     "output_type": "execute_result"
    }
   ],
   "source": [
    "A = \"abc\"\n",
    "B = \"cabcabca\"\n",
    "\n",
    "repeatedStringMatch(A, B)"
   ]
  },
  {
   "cell_type": "markdown",
   "metadata": {},
   "source": [
    "# Problem 6:\n",
    "    \n",
    "LeetCode 1143: Longest Common Subsequence (https://leetcode.com/problems/longest-common-subsequence/)"
   ]
  },
  {
   "cell_type": "markdown",
   "metadata": {},
   "source": [
    "# Problem 7:\n",
    "    \n",
    "LeetCode 76:  Minimum Window Substring (https://leetcode.com/problems/minimum-window-substring/)"
   ]
  },
  {
   "cell_type": "code",
   "execution_count": null,
   "metadata": {},
   "outputs": [],
   "source": []
  }
 ],
 "metadata": {
  "kernelspec": {
   "display_name": "Python 3",
   "language": "python",
   "name": "python3"
  },
  "language_info": {
   "codemirror_mode": {
    "name": "ipython",
    "version": 3
   },
   "file_extension": ".py",
   "mimetype": "text/x-python",
   "name": "python",
   "nbconvert_exporter": "python",
   "pygments_lexer": "ipython3",
   "version": "3.6.5"
  },
  "toc": {
   "base_numbering": 1,
   "nav_menu": {},
   "number_sections": true,
   "sideBar": true,
   "skip_h1_title": false,
   "title_cell": "Table of Contents",
   "title_sidebar": "Contents",
   "toc_cell": false,
   "toc_position": {
    "height": "calc(100% - 180px)",
    "left": "10px",
    "top": "150px",
    "width": "189.796875px"
   },
   "toc_section_display": true,
   "toc_window_display": true
  }
 },
 "nbformat": 4,
 "nbformat_minor": 2
}
