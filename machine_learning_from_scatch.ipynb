{
 "cells": [
  {
   "cell_type": "code",
   "execution_count": 2,
   "metadata": {
    "ExecuteTime": {
     "end_time": "2022-07-06T23:10:41.731331Z",
     "start_time": "2022-07-06T23:10:30.918592Z"
    }
   },
   "outputs": [],
   "source": [
    "import numpy as np\n",
    "import random\n",
    "\n",
    "import matplotlib.pyplot as plt"
   ]
  },
  {
   "cell_type": "markdown",
   "metadata": {},
   "source": [
    "# logistic regression\n",
    "\n",
    "- Equations: https://www.baeldung.com/cs/gradient-descent-logistic-regression\n",
    "- Implementation: https://www.askpython.com/python/examples/logistic-regression-from-scratch"
   ]
  },
  {
   "cell_type": "code",
   "execution_count": 28,
   "metadata": {
    "ExecuteTime": {
     "end_time": "2022-05-17T23:48:35.670046Z",
     "start_time": "2022-05-17T23:48:35.632372Z"
    }
   },
   "outputs": [],
   "source": [
    "dataset = [\n",
    "    [2.7810836, 2.550537003,0],\n",
    "    [1.465489372, 2.362125076,0],\n",
    "    [3.396561688, 4.400293529,0],\n",
    "    [1.38807019, 1.850220317,0],\n",
    "    [3.06407232, 3.005305973,0],\n",
    "    [7.627531214, 2.759262235,1],\n",
    "    [5.332441248, 2.088626775,1],\n",
    "    [6.922596716, 1.77106367,1],\n",
    "    [8.675418651, -0.242068655,1],\n",
    "    [7.673756466, 3.508563011,1]\n",
    "]"
   ]
  },
  {
   "cell_type": "code",
   "execution_count": 55,
   "metadata": {
    "ExecuteTime": {
     "end_time": "2022-05-18T00:07:08.388369Z",
     "start_time": "2022-05-18T00:07:08.378551Z"
    }
   },
   "outputs": [
    {
     "name": "stdout",
     "output_type": "stream",
     "text": [
      "[[ 2.7810836   2.550537  ]\n",
      " [ 1.46548937  2.36212508]\n",
      " [ 3.39656169  4.40029353]\n",
      " [ 1.38807019  1.85022032]\n",
      " [ 3.06407232  3.00530597]\n",
      " [ 7.62753121  2.75926224]\n",
      " [ 5.33244125  2.08862677]\n",
      " [ 6.92259672  1.77106367]\n",
      " [ 8.67541865 -0.24206865]\n",
      " [ 7.67375647  3.50856301]]\n",
      "[0. 0. 0. 0. 0. 1. 1. 1. 1. 1.]\n"
     ]
    }
   ],
   "source": [
    "# training data\n",
    "x = np.array(dataset)[:, :2]\n",
    "y = np.array(dataset)[:, -1]\n",
    "print(x)\n",
    "print(y)"
   ]
  },
  {
   "cell_type": "code",
   "execution_count": 56,
   "metadata": {
    "ExecuteTime": {
     "end_time": "2022-05-18T00:07:11.032589Z",
     "start_time": "2022-05-18T00:07:11.025494Z"
    },
    "scrolled": true
   },
   "outputs": [
    {
     "name": "stdout",
     "output_type": "stream",
     "text": [
      "[[ 1.          2.7810836   2.550537  ]\n",
      " [ 1.          1.46548937  2.36212508]\n",
      " [ 1.          3.39656169  4.40029353]\n",
      " [ 1.          1.38807019  1.85022032]\n",
      " [ 1.          3.06407232  3.00530597]\n",
      " [ 1.          7.62753121  2.75926224]\n",
      " [ 1.          5.33244125  2.08862677]\n",
      " [ 1.          6.92259672  1.77106367]\n",
      " [ 1.          8.67541865 -0.24206865]\n",
      " [ 1.          7.67375647  3.50856301]]\n",
      "[0.32693773 0.24768896 0.04870533]\n"
     ]
    }
   ],
   "source": [
    "# incorporate into weights by add ones into x\n",
    "b = np.ones((x.shape[0], 1))  \n",
    "x = np.concatenate((b, x), axis=1)\n",
    "print(x)\n",
    "\n",
    "# weights\n",
    "w = np.random.rand(x.shape[1])\n",
    "print(w)"
   ]
  },
  {
   "cell_type": "code",
   "execution_count": 59,
   "metadata": {
    "ExecuteTime": {
     "end_time": "2022-05-18T00:09:00.741196Z",
     "start_time": "2022-05-18T00:09:00.734245Z"
    }
   },
   "outputs": [],
   "source": [
    "def sigmoid(z):\n",
    "    return 1/(1 + np.exp(-z))\n",
    "\n",
    "\n",
    "def gradient_descent(x, y, y_pred):\n",
    "    return np.dot((y_pred - y), x)/x.shape[0]\n",
    "\n",
    "\n",
    "def loss(y, y_pred):\n",
    "    return (- y * np.log(y_pred) - (1 - y) * np.log(1 - y_pred)).mean()   "
   ]
  },
  {
   "cell_type": "code",
   "execution_count": 61,
   "metadata": {
    "ExecuteTime": {
     "end_time": "2022-05-18T00:09:30.614587Z",
     "start_time": "2022-05-18T00:09:30.605153Z"
    }
   },
   "outputs": [
    {
     "name": "stdout",
     "output_type": "stream",
     "text": [
      "0 0.00041302308562396006\n",
      "1 0.00041300894429313585\n",
      "2 0.00041299480394027066\n",
      "3 0.00041298066456520904\n",
      "4 0.0004129665261678731\n",
      "5 0.0004129523887481736\n",
      "6 0.00041293825230598834\n",
      "7 0.00041292411684118387\n",
      "8 0.0004129099823537154\n",
      "9 0.0004128958488434831\n",
      "10 0.0004128817163103199\n"
     ]
    }
   ],
   "source": [
    "learning_rate = 0.1\n",
    "niter = 10\n",
    "\n",
    "i = 0\n",
    "while i <= niter:\n",
    "    y_pred = sigmoid(np.dot(x, w))\n",
    "    l = loss(y, y_pred)\n",
    "    print(i, l)\n",
    "    \n",
    "    w +=  - learning_rate * gradient_descent(x, y, y_pred)\n",
    "    \n",
    "    i += 1\n",
    "    "
   ]
  },
  {
   "cell_type": "code",
   "execution_count": 65,
   "metadata": {
    "ExecuteTime": {
     "end_time": "2022-05-18T00:10:40.969428Z",
     "start_time": "2022-05-18T00:10:40.727902Z"
    }
   },
   "outputs": [
    {
     "data": {
      "text/plain": [
       "[<matplotlib.lines.Line2D at 0x10cc8f1d0>]"
      ]
     },
     "execution_count": 65,
     "metadata": {},
     "output_type": "execute_result"
    },
    {
     "data": {
      "image/png": "[encoded data removed]",
      "text/plain": [
       "<Figure size 432x288 with 1 Axes>"
      ]
     },
     "metadata": {
      "needs_background": "light"
     },
     "output_type": "display_data"
    }
   ],
   "source": [
    "plt.plot(range(y.shape[0]), y)\n",
    "plt.plot(range(y.shape[0]), y_pred)\n",
    "plt.show()"
   ]
  },
  {
   "cell_type": "markdown",
   "metadata": {},
   "source": [
    "# k means\n",
    "\n",
    "https://github.com/jinmeiz/ML-From-Scratch/blob/master/mlfromscratch/unsupervised_learning/k_means.py\n"
   ]
  },
  {
   "cell_type": "code",
   "execution_count": 5,
   "metadata": {
    "ExecuteTime": {
     "end_time": "2022-07-06T23:13:31.646707Z",
     "start_time": "2022-07-06T23:13:31.639039Z"
    }
   },
   "outputs": [
    {
     "data": {
      "text/plain": [
       "(5, 2)"
      ]
     },
     "execution_count": 5,
     "metadata": {},
     "output_type": "execute_result"
    }
   ],
   "source": [
    "X = np.array(\n",
    "    [[24.412, 32.932], [35.190, 12.189], [26.288, 41.718], \n",
    "     [0.376, 15.506], [26.116, 3.963]]\n",
    ")\n",
    "X.shape\n"
   ]
  },
  {
   "cell_type": "code",
   "execution_count": 59,
   "metadata": {
    "ExecuteTime": {
     "end_time": "2022-07-07T04:23:30.834843Z",
     "start_time": "2022-07-07T04:23:30.578877Z"
    }
   },
   "outputs": [
    {
     "data": {
      "image/png": "[encoded data removed]",
      "text/plain": [
       "<Figure size 432x288 with 1 Axes>"
      ]
     },
     "metadata": {
      "needs_background": "light"
     },
     "output_type": "display_data"
    }
   ],
   "source": [
    "plt.scatter(X[:, 0], X[:, 1])\n",
    "plt.show()"
   ]
  },
  {
   "cell_type": "code",
   "execution_count": 77,
   "metadata": {
    "ExecuteTime": {
     "end_time": "2022-07-07T04:41:21.726455Z",
     "start_time": "2022-07-07T04:41:21.707327Z"
    }
   },
   "outputs": [
    {
     "name": "stdout",
     "output_type": "stream",
     "text": [
      "5 2\n",
      "\n",
      "[array([25.35 , 37.325]), array([13.246 ,  9.7345]), array([35.19 , 12.189])]\n",
      "0 [[[24.412, 32.932], [26.288, 41.718]], [[0.376, 15.506], [26.116, 3.963]], [[35.19, 12.189]]]\n",
      "[array([25.35 , 37.325]), array([ 0.376, 15.506]), array([30.653,  8.076])]\n",
      "1 [[[24.412, 32.932], [26.288, 41.718]], [[0.376, 15.506]], [[35.19, 12.189], [26.116, 3.963]]]\n",
      "[array([25.35 , 37.325]), array([ 0.376, 15.506]), array([30.653,  8.076])]\n",
      "2 [[[24.412, 32.932], [26.288, 41.718]], [[0.376, 15.506]], [[35.19, 12.189], [26.116, 3.963]]]\n"
     ]
    }
   ],
   "source": [
    "def init_random_centroids(X, k):\n",
    "    n_samples, n_features = X.shape[0], X.shape[1]\n",
    "    print(n_samples, n_features )\n",
    "    centroids = np.zeros((k, n_features))\n",
    "    \n",
    "    random_idx_lst = random.sample(range(0, 5), 3)\n",
    "    print()\n",
    "    for i, random_idx in enumerate(random_idx_lst):\n",
    "        centroids[i] = X[random_idx]\n",
    "    \n",
    "    return centroids\n",
    "\n",
    "\n",
    "def euclidean_distance(x1, x2):\n",
    "    return np.sqrt(((x1 - x2)**2).sum())\n",
    "\n",
    "\n",
    "def closest_centroid(point, centroids):\n",
    "    closest_i = 0\n",
    "    closest_dist = float('inf')\n",
    "    \n",
    "    for i, centroid in enumerate(centroids):\n",
    "        dist = euclidean_distance(point, centroid)\n",
    "        if dist < closest_dist:\n",
    "            closest_i = i\n",
    "            closest_dist = dist\n",
    "    return closest_i\n",
    "        \n",
    "\n",
    "def assign_clusters(X, centroids, k):\n",
    "    \n",
    "    clusters = [[] for i in range(k)]\n",
    "    for point in X:\n",
    "        centroid = closest_centroid(point, centroids)\n",
    "        clusters[centroid].append(point.tolist())\n",
    "    \n",
    "    return clusters\n",
    "\n",
    "\n",
    "def calculate_centroids(clusters):\n",
    "    \n",
    "    centroids = [[] for i in range(k)]\n",
    "    for i, cluster in enumerate(clusters):\n",
    "        centroids[i] = np.array(cluster).mean(axis=0)    \n",
    "    print(centroids)\n",
    "    return centroids\n",
    "\n",
    "\n",
    "k = 3\n",
    "\n",
    "# initialize centroids as k random samples from X\n",
    "centroids = init_random_centroids(X, k)\n",
    "# print('initial centroid:\\n', centroids)\n",
    "\n",
    "max_iterations = 3\n",
    "i = 0\n",
    "while i < max_iterations:\n",
    "    # assign samples to closest centroids (create clusters)\n",
    "    clusters = assign_clusters(X, centroids, k)\n",
    "    new_centroids = calculate_centroids(clusters)\n",
    "    print(i, clusters)\n",
    "#     print(centroids)\n",
    "    \n",
    "    diff = np.array(centroids) - np.array(new_centroids)\n",
    "    if not diff.any():\n",
    "        break\n",
    "    centroids = new_centroids\n",
    "                \n",
    "    i += 1"
   ]
  },
  {
   "cell_type": "code",
   "execution_count": null,
   "metadata": {},
   "outputs": [],
   "source": []
  }
 ],
 "metadata": {
  "kernelspec": {
   "display_name": "Python 3",
   "language": "python",
   "name": "python3"
  },
  "language_info": {
   "codemirror_mode": {
    "name": "ipython",
    "version": 3
   },
   "file_extension": ".py",
   "mimetype": "text/x-python",
   "name": "python",
   "nbconvert_exporter": "python",
   "pygments_lexer": "ipython3",
   "version": "3.6.5"
  },
  "toc": {
   "base_numbering": 1,
   "nav_menu": {},
   "number_sections": true,
   "sideBar": true,
   "skip_h1_title": false,
   "title_cell": "Table of Contents",
   "title_sidebar": "Contents",
   "toc_cell": false,
   "toc_position": {
    "height": "calc(100% - 180px)",
    "left": "10px",
    "top": "150px",
    "width": "180.59375px"
   },
   "toc_section_display": true,
   "toc_window_display": true
  }
 },
 "nbformat": 4,
 "nbformat_minor": 2
}
